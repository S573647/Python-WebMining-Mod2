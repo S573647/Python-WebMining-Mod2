{
 "cells": [
  {
   "cell_type": "markdown",
   "metadata": {},
   "source": [
    "# Name : Kamalini  Pradhan\n",
    "# Question # 10\n",
    "# Python code that uses loops to draw the following pattern\n",
    "\n",
    "```\n",
    "*      *\n",
    "**    **\n",
    "***  ***\n",
    "********\n",
    "```\n"
   ]
  },
  {
   "cell_type": "code",
   "execution_count": 4,
   "metadata": {},
   "outputs": [
    {
     "name": "stdout",
     "output_type": "stream",
     "text": [
      "*      *\n",
      "**    **\n",
      "***  ***\n",
      "********\n"
     ]
    }
   ],
   "source": [
    "# Define the height of the pattern\n",
    "height = 4\n",
    "\n",
    "# Outer loop for each row\n",
    "for i in range(1, height + 1):\n",
    "    # Inner loop for printing stars\n",
    "    for j in range(1, i + 1):\n",
    "        print(\"*\", end=\"\")\n",
    "    \n",
    "    # Inner loop for printing spaces\n",
    "    for k in range(1, 2 * (height - i) + 1):\n",
    "        print(\" \", end=\"\")\n",
    "    \n",
    "    # Inner loop for printing stars again\n",
    "    for l in range(1, i + 1):\n",
    "        print(\"*\", end=\"\")\n",
    "    \n",
    "    # Move to the next line after completing each row\n",
    "    print()\n"
   ]
  }
 ],
 "metadata": {
  "kernelspec": {
   "display_name": "Python 3",
   "language": "python",
   "name": "python3"
  },
  "language_info": {
   "codemirror_mode": {
    "name": "ipython",
    "version": 3
   },
   "file_extension": ".py",
   "mimetype": "text/x-python",
   "name": "python",
   "nbconvert_exporter": "python",
   "pygments_lexer": "ipython3",
   "version": "3.12.1"
  }
 },
 "nbformat": 4,
 "nbformat_minor": 2
}
